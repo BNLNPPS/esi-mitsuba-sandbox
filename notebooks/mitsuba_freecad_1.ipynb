{
 "cells": [
  {
   "cell_type": "markdown",
   "metadata": {},
   "source": [
    "## Mitsuba \"FreeCAD 1\"\n",
    "\n",
    "Importing some volumes created in the FreeCAD application, into the Mitsuba scenes.\n",
    "\n"
   ]
  },
  {
   "cell_type": "code",
   "execution_count": 2,
   "metadata": {},
   "outputs": [],
   "source": [
    "import mitsuba              as mi\n",
    "import matplotlib.pyplot    as plt\n",
    "mi.variants() # mi.set_variant(\"llvm_ad_rgb\") # mi.set_variant(\"scalar_rgb\") # mi.set_variant(\"cuda_ad_rgb\")\n",
    "mi.set_variant(\"cuda_ad_rgb\")"
   ]
  },
  {
   "cell_type": "code",
   "execution_count": null,
   "metadata": {},
   "outputs": [],
   "source": [
    "scene   = mi.load_file(\"../scenes/freecadbox.xml\")\n",
    "img1    = mi.render(scene, spp=512)\n",
    "\n",
    "plt.figure(figsize=(10,10))\n",
    "plt.imshow(img1 ** (1.0 / 1.7))\n",
    "plt.axis(\"off\")"
   ]
  },
  {
   "cell_type": "code",
   "execution_count": null,
   "metadata": {},
   "outputs": [],
   "source": [
    "scene   = mi.load_file(\"../scenes/freecadboxmod.xml\")\n",
    "img1    = mi.render(scene, spp=512)\n",
    "\n",
    "plt.figure(figsize=(10,10))\n",
    "plt.imshow(img1 ** (1.0 / 1.7))\n",
    "plt.axis(\"off\")"
   ]
  }
 ],
 "metadata": {
  "celltoolbar": "Edit Metadata",
  "file_extension": ".py",
  "kernelspec": {
   "display_name": "Python 3 (ipykernel)",
   "language": "python",
   "name": "python3"
  },
  "language_info": {
   "codemirror_mode": {
    "name": "ipython",
    "version": 3
   },
   "file_extension": ".py",
   "mimetype": "text/x-python",
   "name": "python",
   "nbconvert_exporter": "python",
   "pygments_lexer": "ipython3",
   "version": "3.12.0"
  },
  "metadata": {
   "interpreter": {
    "hash": "31f2aee4e71d21fbe5cf8b01ff0e069b9275f58929596ceb00d14d90e3e16cd6"
   }
  },
  "mimetype": "text/x-python",
  "name": "python",
  "npconvert_exporter": "python",
  "pygments_lexer": "ipython3",
  "version": 3
 },
 "nbformat": 4,
 "nbformat_minor": 4
}
