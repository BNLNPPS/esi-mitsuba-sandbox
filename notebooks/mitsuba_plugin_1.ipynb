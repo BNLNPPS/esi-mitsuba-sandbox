{
 "cells": [
  {
   "cell_type": "markdown",
   "metadata": {},
   "source": [
    "## Mitsuba \"Plugin 1\"\n",
    "\n",
    "Stufying the logic of the Mitsuba plugin machinery.\n",
    "\n"
   ]
  },
  {
   "cell_type": "code",
   "execution_count": 1,
   "metadata": {},
   "outputs": [],
   "source": [
    "import mitsuba              as mi\n",
    "import matplotlib.pyplot    as plt\n",
    "mi.variants() # mi.set_variant(\"llvm_ad_rgb\") # mi.set_variant(\"scalar_rgb\") # mi.set_variant(\"cuda_ad_rgb\")\n",
    "mi.set_variant(\"llvm_ad_rgb\")"
   ]
  },
  {
   "cell_type": "markdown",
   "metadata": {},
   "source": [
    "## Create the custom class\n",
    "\n",
    "---\n"
   ]
  },
  {
   "cell_type": "code",
   "execution_count": 2,
   "metadata": {},
   "outputs": [],
   "source": [
    "class MyBSDF(mi.BSDF):\n",
    "    def __init__(self, props):\n",
    "        mi.BSDF.__init__(self, props)\n",
    "\n",
    "        # Read 'eta' and 'tint' properties from `props`\n",
    "        self.eta = 1.33\n",
    "        if props.has_property('eta'):\n",
    "            self.eta = props['eta']\n",
    "\n",
    "        self.tint = props['tint']\n",
    "\n",
    "        # Set the BSDF flags\n",
    "        reflection_flags   = mi.BSDFFlags.DeltaReflection   | mi.BSDFFlags.FrontSide | mi.BSDFFlags.BackSide\n",
    "        transmission_flags = mi.BSDFFlags.DeltaTransmission | mi.BSDFFlags.FrontSide | mi.BSDFFlags.BackSide\n",
    "        self.m_components  = [reflection_flags, transmission_flags]\n",
    "        self.m_flags = reflection_flags | transmission_flags\n",
    "\n",
    "    def sample(self, ctx, si, sample1, sample2, active):\n",
    "        # Compute Fresnel terms\n",
    "        cos_theta_i = mi.Frame3f.cos_theta(si.wi)\n",
    "        r_i, cos_theta_t, eta_it, eta_ti = mi.fresnel(cos_theta_i, self.eta)\n",
    "        t_i = dr.maximum(1.0 - r_i, 0.0)\n",
    "\n",
    "        # Pick between reflection and transmission\n",
    "        selected_r = (sample1 <= r_i) & active\n",
    "\n",
    "        # Fill up the BSDFSample struct\n",
    "        bs = mi.BSDFSample3f()\n",
    "        bs.pdf = dr.select(selected_r, r_i, t_i)\n",
    "        bs.sampled_component = dr.select(selected_r, mi.UInt32(0), mi.UInt32(1))\n",
    "        bs.sampled_type      = dr.select(selected_r, mi.UInt32(+mi.BSDFFlags.DeltaReflection),\n",
    "                                                     mi.UInt32(+mi.BSDFFlags.DeltaTransmission))\n",
    "        bs.wo = dr.select(selected_r,\n",
    "                          mi.reflect(si.wi),\n",
    "                          mi.refract(si.wi, cos_theta_t, eta_ti))\n",
    "        bs.eta = dr.select(selected_r, 1.0, eta_it)\n",
    "\n",
    "        # For reflection, tint based on the incident angle (more tint at grazing angle)\n",
    "        value_r = dr.lerp(mi.Color3f(self.tint), mi.Color3f(1.0), dr.clamp(cos_theta_i, 0.0, 1.0))\n",
    "\n",
    "        # For transmission, radiance must be scaled to account for the solid angle compression\n",
    "        value_t = mi.Color3f(1.0) * dr.sqr(eta_ti)\n",
    "\n",
    "        value = dr.select(selected_r, value_r, value_t)\n",
    "\n",
    "        return (bs, value)\n",
    "\n",
    "    def eval(self, ctx, si, wo, active):\n",
    "        return 0.0\n",
    "\n",
    "    def pdf(self, ctx, si, wo, active):\n",
    "        return 0.0\n",
    "\n",
    "    def eval_pdf(self, ctx, si, wo, active):\n",
    "        return 0.0, 0.0\n",
    "\n",
    "    def traverse(self, callback):\n",
    "        callback.put_parameter('tint', self.tint, mi.ParamFlags.Differentiable)\n",
    "\n",
    "    def parameters_changed(self, keys):\n",
    "        print(\"🏝️ there is nothing to do here 🏝️\")\n",
    "\n",
    "    def to_string(self):\n",
    "        return ('MyBSDF[\\n'\n",
    "                '    eta=%s,\\n'\n",
    "                '    tint=%s,\\n'\n",
    "                ']' % (self.eta, self.tint))"
   ]
  },
  {
   "cell_type": "markdown",
   "metadata": {},
   "source": [
    "## Register the plugin"
   ]
  },
  {
   "cell_type": "code",
   "execution_count": 11,
   "metadata": {},
   "outputs": [],
   "source": [
    "mi.register_bsdf(\"mybsdf\", lambda props: MyBSDF(props))"
   ]
  },
  {
   "cell_type": "code",
   "execution_count": 4,
   "metadata": {},
   "outputs": [
    {
     "data": {
      "text/plain": [
       "MyBSDF[\n",
       "    eta=1.33,\n",
       "    tint=[0.2, 0.9, 0.2],\n",
       "]"
      ]
     },
     "execution_count": 4,
     "metadata": {},
     "output_type": "execute_result"
    }
   ],
   "source": [
    "my_bsdf = mi.load_dict({\n",
    "    'type' : 'mybsdf',\n",
    "    'tint' : [0.2, 0.9, 0.2],\n",
    "    'eta' : 1.33\n",
    "})\n",
    "\n",
    "my_bsdf"
   ]
  },
  {
   "cell_type": "code",
   "execution_count": 12,
   "metadata": {},
   "outputs": [
    {
     "ename": "",
     "evalue": "",
     "output_type": "error",
     "traceback": [
      "\u001b[1;31mThe Kernel crashed while executing code in the current cell or a previous cell. \n",
      "\u001b[1;31mPlease review the code in the cell(s) to identify a possible cause of the failure. \n",
      "\u001b[1;31mClick <a href='https://aka.ms/vscodeJupyterKernelCrash'>here</a> for more info. \n",
      "\u001b[1;31mView Jupyter <a href='command:jupyter.viewOutput'>log</a> for further details."
     ]
    }
   ],
   "source": [
    "import drjit as dr\n",
    "scene   = mi.load_file(\"../scenes/pluginbox.xml\")\n",
    "img1    = mi.render(scene, spp=128)\n",
    "plt.axis(\"off\")\n",
    "plt.imshow(img1 ** (1.0 / 1.7))"
   ]
  }
 ],
 "metadata": {
  "celltoolbar": "Edit Metadata",
  "file_extension": ".py",
  "kernelspec": {
   "display_name": "Python 3 (ipykernel)",
   "language": "python",
   "name": "python3"
  },
  "language_info": {
   "codemirror_mode": {
    "name": "ipython",
    "version": 3
   },
   "file_extension": ".py",
   "mimetype": "text/x-python",
   "name": "python",
   "nbconvert_exporter": "python",
   "pygments_lexer": "ipython3",
   "version": "3.10.0"
  },
  "metadata": {
   "interpreter": {
    "hash": "31f2aee4e71d21fbe5cf8b01ff0e069b9275f58929596ceb00d14d90e3e16cd6"
   }
  },
  "mimetype": "text/x-python",
  "name": "python",
  "npconvert_exporter": "python",
  "pygments_lexer": "ipython3",
  "version": 3
 },
 "nbformat": 4,
 "nbformat_minor": 4
}
