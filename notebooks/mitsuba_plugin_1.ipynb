{
 "cells": [
  {
   "cell_type": "markdown",
   "metadata": {},
   "source": [
    "## Mitsuba \"Plugin 1\"\n",
    "\n",
    "Stufying the logic of the Mitsuba plugin machinery.\n",
    "\n"
   ]
  },
  {
   "cell_type": "code",
   "execution_count": 8,
   "metadata": {},
   "outputs": [
    {
     "ename": "",
     "evalue": "",
     "output_type": "error",
     "traceback": [
      "\u001b[1;31mThe Kernel crashed while executing code in the current cell or a previous cell. \n",
      "\u001b[1;31mPlease review the code in the cell(s) to identify a possible cause of the failure. \n",
      "\u001b[1;31mClick <a href='https://aka.ms/vscodeJupyterKernelCrash'>here</a> for more info. \n",
      "\u001b[1;31mView Jupyter <a href='command:jupyter.viewOutput'>log</a> for further details."
     ]
    }
   ],
   "source": [
    "#!/usr/bin/env python3\n",
    "import matplotlib.pyplot    as plt\n",
    "import mitsuba              as mi\n",
    "mi.set_variant(\"llvm_ad_rgb\")\n",
    "from mitsuba import *\n",
    "\n",
    "import drjit as dr\n",
    "\n",
    "# ---\n",
    "class MyBSDF(mi.BSDF):\n",
    "    def __init__(self, props):\n",
    "        mi.BSDF.__init__(self, props)\n",
    "        self.m_reflectance \\\n",
    "            = mi.load_string('''<spectrum version='2.0.0' type='srgb' name=\"reflectance\">\n",
    "                                <rgb name=\"color\" value=\"0.45, 0.90, 0.90\"/>\n",
    "                             </spectrum>''')\n",
    "        self.m_flags = BSDFFlags.DiffuseReflection | BSDFFlags.FrontSide\n",
    "        self.m_components = [self.m_flags]\n",
    "\n",
    "    def sample(self, ctx, si, sample1, sample2, active):\n",
    "        cos_theta_i = Frame3f.cos_theta(si.wi)\n",
    "\n",
    "        active &= cos_theta_i > 0\n",
    "\n",
    "        bs = BSDFSample3f()\n",
    "        bs.wo  = warp.square_to_cosine_hemisphere(sample2)\n",
    "        bs.pdf = warp.square_to_cosine_hemisphere_pdf(bs.wo)\n",
    "        bs.eta = 1.0\n",
    "        bs.sampled_type = +BSDFFlags.DiffuseReflection\n",
    "        bs.sampled_component = 0\n",
    "\n",
    "        value = self.m_reflectance.eval(si, active)\n",
    "\n",
    "        return ( bs, dr.select(active & (bs.pdf > 0.0), value, Vector3f(0)) )\n",
    "\n",
    "    def eval(self, ctx, si, wo, active):\n",
    "        if not ctx.is_enabled(BSDFFlags.DiffuseReflection):\n",
    "            return Vector3f(0)\n",
    "\n",
    "        cos_theta_i = Frame3f.cos_theta(si.wi)\n",
    "        cos_theta_o = Frame3f.cos_theta(wo)\n",
    "\n",
    "        value = self.m_reflectance.eval(si, active) * (1/3.1415926) * cos_theta_o\n",
    "\n",
    "        return dr.select((cos_theta_i > 0.0) & (cos_theta_o > 0.0), value, Vector3f(0))\n",
    "\n",
    "    def pdf(self, ctx, si, wo, active):\n",
    "        if not ctx.is_enabled(BSDFFlags.DiffuseReflection):\n",
    "            return Vector3f(0)\n",
    "\n",
    "        cos_theta_i = Frame3f.cos_theta(si.wi)\n",
    "        cos_theta_o = Frame3f.cos_theta(wo)\n",
    "\n",
    "        pdf = warp.square_to_cosine_hemisphere_pdf(wo)\n",
    "\n",
    "        return dr.select((cos_theta_i > 0.0) & (cos_theta_o > 0.0), pdf, 0.0)\n",
    "\n",
    "    def to_string(self):\n",
    "        return \"MyDiffuseBSDF[reflectance = %s]\".format(self.m_reflectance.to_string())\n",
    "    \n",
    "# ---------------------------------------------------\n",
    "\n",
    "mi.register_bsdf(\"mybsdf\", lambda props: MyBSDF(props))\n",
    "scene   = mi.load_file(\"../scenes/pluginbox.xml\")\n",
    "img1    = mi.render(scene, spp=128)\n",
    "plt.axis(\"off\")\n",
    "plt.imshow(img1 ** (1.0 / 1.7))\n"
   ]
  }
 ],
 "metadata": {
  "celltoolbar": "Edit Metadata",
  "file_extension": ".py",
  "kernelspec": {
   "display_name": "Python 3 (ipykernel)",
   "language": "python",
   "name": "python3"
  },
  "language_info": {
   "codemirror_mode": {
    "name": "ipython",
    "version": 3
   },
   "file_extension": ".py",
   "mimetype": "text/x-python",
   "name": "python",
   "nbconvert_exporter": "python",
   "pygments_lexer": "ipython3",
   "version": "3.10.0"
  },
  "metadata": {
   "interpreter": {
    "hash": "31f2aee4e71d21fbe5cf8b01ff0e069b9275f58929596ceb00d14d90e3e16cd6"
   }
  },
  "mimetype": "text/x-python",
  "name": "python",
  "npconvert_exporter": "python",
  "pygments_lexer": "ipython3",
  "version": 3
 },
 "nbformat": 4,
 "nbformat_minor": 4
}
